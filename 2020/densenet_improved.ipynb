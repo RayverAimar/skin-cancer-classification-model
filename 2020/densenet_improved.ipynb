{
 "cells": [
  {
   "cell_type": "code",
   "execution_count": 1,
   "id": "206543ae-2762-471a-b9d7-64a05bf82117",
   "metadata": {},
   "outputs": [],
   "source": [
    "import tensorflow as tf\n",
    "import pandas as pd\n",
    "import multiprocessing\n",
    "import concurrent.futures\n",
    "from PIL import Image\n",
    "import numpy as np\n",
    "from tensorflow.keras.utils import Sequence, to_categorical\n",
    "from tensorflow.keras.applications.densenet import DenseNet201\n",
    "from tensorflow.keras.layers import Conv2D, Flatten, Dense, MaxPool2D, BatchNormalization, Dropout, GlobalAveragePooling2D, Activation\n",
    "from keras.applications import DenseNet201\n",
    "from keras.models import Model\n",
    "from keras.layers import Dense\n",
    "from tensorflow.keras.optimizers import Adam\n",
    "from tensorflow.keras import Input\n",
    "\n",
    "from sklearn.metrics import ConfusionMatrixDisplay\n",
    "from sklearn.metrics import multilabel_confusion_matrix\n",
    "from sklearn.metrics import confusion_matrix\n",
    "import matplotlib.pyplot as plt\n",
    "import seaborn as sns\n",
    "from sklearn.metrics import classification_report"
   ]
  },
  {
   "cell_type": "code",
   "execution_count": 8,
   "id": "a719040a-28b1-485a-a43e-b5725765cc9e",
   "metadata": {},
   "outputs": [],
   "source": [
    "image_size=224\n",
    "def resize_image_array(image_path):\n",
    "    return np.asarray(Image.open(image_path).resize((image_size,image_size)))\n",
    "def get_images(df_paths):\n",
    "    max_workers = multiprocessing.cpu_count()\n",
    "    with concurrent.futures.ThreadPoolExecutor(max_workers=max_workers) as executor:\n",
    "        image_arrays = list(executor.map(resize_image_array, ('ISIC_2020/train/' + df_paths['image_name'] + '.jpg').tolist()))\n",
    "    return np.array(image_arrays)"
   ]
  },
  {
   "cell_type": "code",
   "execution_count": 3,
   "id": "c1fdc608-1029-4808-8e0a-e707a43e05ef",
   "metadata": {},
   "outputs": [],
   "source": [
    "def load_data(x_df_path, y_df_path):\n",
    "    x_df = pd.read_csv(x_df_path)\n",
    "    y_df = pd.read_csv(y_df_path)\n",
    "    x_paths = x_df.iloc[:, 0:1]\n",
    "    y = y_df.iloc[:,:].values\n",
    "    x_img = get_images(x_paths)\n",
    "    x_img = np.array(x_img)\n",
    "    x_img = x_img / 255\n",
    "    return x_img, y"
   ]
  },
  {
   "cell_type": "code",
   "execution_count": 4,
   "id": "b9b18fde-853b-4c2f-b14a-b1965d6a5f8a",
   "metadata": {},
   "outputs": [],
   "source": [
    "class DataGenerator(Sequence):\n",
    "    def __init__(self, x_set, y_set, batch_size):\n",
    "        self.x, self.y = x_set, y_set\n",
    "        self.batch_size = batch_size\n",
    "\n",
    "    def __len__(self):\n",
    "        return int(np.ceil(len(self.x) / float(self.batch_size)))\n",
    "\n",
    "    def __getitem__(self, idx):\n",
    "        batch_x = self.x[idx * self.batch_size:(idx + 1) * self.batch_size]\n",
    "        batch_y = self.y[idx * self.batch_size:(idx + 1) * self.batch_size]\n",
    "        return batch_x, batch_y"
   ]
  },
  {
   "cell_type": "code",
   "execution_count": 2,
   "id": "95ab1b3d-eaac-488c-a271-44dab787a894",
   "metadata": {},
   "outputs": [],
   "source": [
    "from tensorflow.keras.applications import DenseNet201\n",
    "from tensorflow.keras.models import Model\n",
    "from tensorflow.keras.layers import Input, GlobalAveragePooling2D, Dense, Dropout, BatchNormalization, Activation\n",
    "from tensorflow.keras.optimizers import Adam\n",
    "\n",
    "def build_densenet201():\n",
    "    base_model = DenseNet201(weights='imagenet',\n",
    "                             include_top=False,\n",
    "                             input_tensor=Input(shape=(224, 224, 3))\n",
    "                            )\n",
    "    \n",
    "    for layer in base_model.layers:\n",
    "        layer.trainable = True\n",
    "    \n",
    "    x = GlobalAveragePooling2D()(base_model.output)\n",
    "    \n",
    "    x = Dense(512)(x)\n",
    "    x = Dropout(0.2)(x)\n",
    "    x = BatchNormalization()(x)\n",
    "    x = Activation('relu')(x)\n",
    "    \n",
    "    x = Dense(128)(x)\n",
    "    x = Dropout(0.2)(x)\n",
    "    x = BatchNormalization()(x)\n",
    "    x = Activation('relu')(x)\n",
    "    \n",
    "    x = Dense(52)(x)\n",
    "    x = Dropout(0.2)(x)\n",
    "    x = BatchNormalization()(x)\n",
    "    x = Activation('relu')(x)\n",
    "    \n",
    "    x = Dense(16)(x)\n",
    "    x = Dropout(0.2)(x)\n",
    "    x = BatchNormalization()(x)\n",
    "    x = Activation('relu')(x)\n",
    "    \n",
    "    x = Dense(2, activation='sigmoid')(x)\n",
    "    \n",
    "    model = Model(inputs=base_model.input, outputs=x)\n",
    "    \n",
    "    optimizer = Adam(learning_rate=0.0001)\n",
    "    \n",
    "    model.compile(optimizer=optimizer,\n",
    "                  loss='binary_crossentropy',\n",
    "                  metrics=['accuracy'])\n",
    "    \n",
    "    return model"
   ]
  },
  {
   "cell_type": "code",
   "execution_count": 6,
   "id": "731c7aaa-0865-496c-8f06-bf47cbfd1d1e",
   "metadata": {},
   "outputs": [],
   "source": [
    "X_train, y_train = load_data('X_train_df.csv', 'y_train_df.csv')\n",
    "X_val, y_val = load_data('X_val_df.csv', 'y_val_df.csv')"
   ]
  },
  {
   "cell_type": "code",
   "execution_count": 9,
   "id": "b73501e1-23b6-4323-92a4-b7c368a4a4e1",
   "metadata": {},
   "outputs": [],
   "source": [
    "X_test, y_test = load_data('X_test_df.csv', 'y_test_df.csv')"
   ]
  },
  {
   "cell_type": "code",
   "execution_count": 7,
   "id": "e2e816ea-9ef0-46c2-8181-c7039d209e25",
   "metadata": {},
   "outputs": [],
   "source": [
    "batch_size = 4\n",
    "train_gen = DataGenerator(X_train, y_train, batch_size)\n",
    "val_gen = DataGenerator(X_val, y_val, batch_size)\n",
    "test_gen = DataGenerator(X_test, y_test, batch_size)"
   ]
  },
  {
   "cell_type": "code",
   "execution_count": 8,
   "id": "a525d79f-e2ad-46bd-8662-77ba063ba9c6",
   "metadata": {},
   "outputs": [],
   "source": [
    "densenet_model = build_densenet201()"
   ]
  },
  {
   "cell_type": "code",
   "execution_count": 9,
   "id": "19e75f9e-b138-439f-baaa-c51971a2646e",
   "metadata": {},
   "outputs": [
    {
     "name": "stdout",
     "output_type": "stream",
     "text": [
      "Epoch 1/30\n",
      "2115/2115 [==============================] - 343s 152ms/step - loss: 0.5011 - accuracy: 0.8327 - val_loss: 0.3108 - val_accuracy: 0.9584\n",
      "Epoch 2/30\n",
      "2115/2115 [==============================] - 317s 150ms/step - loss: 0.2739 - accuracy: 0.9452 - val_loss: 0.1904 - val_accuracy: 0.9584\n",
      "Epoch 3/30\n",
      "2115/2115 [==============================] - 318s 150ms/step - loss: 0.2387 - accuracy: 0.9452 - val_loss: 0.1945 - val_accuracy: 0.9584\n",
      "Epoch 4/30\n",
      "2115/2115 [==============================] - 317s 150ms/step - loss: 0.2275 - accuracy: 0.9452 - val_loss: 0.2051 - val_accuracy: 0.9584\n",
      "Epoch 5/30\n",
      "2115/2115 [==============================] - 317s 150ms/step - loss: 0.2256 - accuracy: 0.9452 - val_loss: 0.2178 - val_accuracy: 0.9584\n",
      "Epoch 6/30\n",
      "2115/2115 [==============================] - 317s 150ms/step - loss: 0.2256 - accuracy: 0.9452 - val_loss: 0.4618 - val_accuracy: 0.9584\n",
      "Epoch 7/30\n",
      "2115/2115 [==============================] - 317s 150ms/step - loss: 0.2191 - accuracy: 0.9452 - val_loss: 0.2803 - val_accuracy: 0.9584\n",
      "Epoch 8/30\n",
      "2115/2115 [==============================] - 317s 150ms/step - loss: 0.2196 - accuracy: 0.9452 - val_loss: 0.4541 - val_accuracy: 0.9584\n",
      "Epoch 9/30\n",
      "2115/2115 [==============================] - 316s 149ms/step - loss: 0.2141 - accuracy: 0.9452 - val_loss: 0.2076 - val_accuracy: 0.9584\n",
      "Epoch 10/30\n",
      "2115/2115 [==============================] - 317s 150ms/step - loss: 0.2199 - accuracy: 0.9452 - val_loss: 0.2404 - val_accuracy: 0.9584\n",
      "Epoch 11/30\n",
      "2115/2115 [==============================] - 316s 149ms/step - loss: 0.2178 - accuracy: 0.9452 - val_loss: 0.4925 - val_accuracy: 0.9584\n",
      "Epoch 12/30\n",
      "2115/2115 [==============================] - 319s 151ms/step - loss: 0.2154 - accuracy: 0.9452 - val_loss: 1.8678 - val_accuracy: 0.9584\n",
      "Epoch 13/30\n",
      "2115/2115 [==============================] - 320s 151ms/step - loss: 0.2200 - accuracy: 0.9452 - val_loss: 12.4527 - val_accuracy: 0.9584\n",
      "Epoch 14/30\n",
      "2115/2115 [==============================] - 319s 151ms/step - loss: 0.2083 - accuracy: 0.9452 - val_loss: 2.4692 - val_accuracy: 0.9584\n",
      "Epoch 15/30\n",
      "2115/2115 [==============================] - 318s 150ms/step - loss: 0.2120 - accuracy: 0.9452 - val_loss: 4.1376 - val_accuracy: 0.9584\n",
      "Epoch 16/30\n",
      "2115/2115 [==============================] - 317s 150ms/step - loss: 0.2106 - accuracy: 0.9452 - val_loss: 4.0862 - val_accuracy: 0.9584\n",
      "Epoch 17/30\n",
      "2115/2115 [==============================] - 318s 150ms/step - loss: 0.2068 - accuracy: 0.9452 - val_loss: 3.9590 - val_accuracy: 0.9584\n",
      "Epoch 18/30\n",
      "2115/2115 [==============================] - 320s 151ms/step - loss: 0.2081 - accuracy: 0.9452 - val_loss: 12.2718 - val_accuracy: 0.9584\n",
      "Epoch 19/30\n",
      "2115/2115 [==============================] - 318s 150ms/step - loss: 0.2145 - accuracy: 0.9452 - val_loss: 3.1957 - val_accuracy: 0.9584\n",
      "Epoch 20/30\n",
      "2115/2115 [==============================] - 316s 150ms/step - loss: 0.2120 - accuracy: 0.9452 - val_loss: 7.5444 - val_accuracy: 0.9584\n",
      "Epoch 21/30\n",
      "2115/2115 [==============================] - 316s 149ms/step - loss: 0.2149 - accuracy: 0.9452 - val_loss: 0.4301 - val_accuracy: 0.9584\n",
      "Epoch 22/30\n",
      "2115/2115 [==============================] - 316s 149ms/step - loss: 0.2108 - accuracy: 0.9452 - val_loss: 78.8400 - val_accuracy: 0.9584\n",
      "Epoch 23/30\n",
      "2115/2115 [==============================] - 316s 149ms/step - loss: 0.2120 - accuracy: 0.9452 - val_loss: 16.3093 - val_accuracy: 0.9584\n",
      "Epoch 24/30\n",
      "2115/2115 [==============================] - 316s 150ms/step - loss: 0.2098 - accuracy: 0.9452 - val_loss: 10.0388 - val_accuracy: 0.9584\n",
      "Epoch 25/30\n",
      "2115/2115 [==============================] - 316s 149ms/step - loss: 0.2119 - accuracy: 0.9452 - val_loss: 2.1502 - val_accuracy: 0.9584\n",
      "Epoch 26/30\n",
      "2115/2115 [==============================] - 317s 150ms/step - loss: 0.2112 - accuracy: 0.9452 - val_loss: 0.2900 - val_accuracy: 0.9584\n",
      "Epoch 27/30\n",
      "2115/2115 [==============================] - 319s 151ms/step - loss: 0.2082 - accuracy: 0.9452 - val_loss: 0.3250 - val_accuracy: 0.9584\n",
      "Epoch 28/30\n",
      "2115/2115 [==============================] - 316s 149ms/step - loss: 0.2055 - accuracy: 0.9452 - val_loss: 82.9005 - val_accuracy: 0.9584\n",
      "Epoch 29/30\n",
      "2115/2115 [==============================] - 317s 150ms/step - loss: 0.2052 - accuracy: 0.9452 - val_loss: 0.3869 - val_accuracy: 0.9584\n",
      "Epoch 30/30\n",
      "2115/2115 [==============================] - 322s 152ms/step - loss: 0.2023 - accuracy: 0.9452 - val_loss: 0.1774 - val_accuracy: 0.9584\n"
     ]
    }
   ],
   "source": [
    "history = densenet_model.fit(train_gen, validation_data=val_gen, epochs=30)"
   ]
  },
  {
   "cell_type": "code",
   "execution_count": null,
   "id": "beb55a0d-3022-4ec8-8da1-8b7e08c56d50",
   "metadata": {},
   "outputs": [],
   "source": []
  },
  {
   "cell_type": "code",
   "execution_count": null,
   "id": "b924dd7e-8f6c-4f4d-9ba1-c2aab109d944",
   "metadata": {},
   "outputs": [],
   "source": [
    "plt.plot(history.history['accuracy'], label='Training accuracy')\n",
    "plt.plot(history.history['val_accuracy'], label='Validation accuracy')\n",
    "plt.legend()\n",
    "plt.show()\n",
    "\n",
    "plt.plot(history.history['loss'], label='Training loss')\n",
    "plt.plot(history.history['val_loss'], label='Validation loss')\n",
    "plt.legend()\n",
    "plt.show()"
   ]
  },
  {
   "cell_type": "code",
   "execution_count": 12,
   "id": "48acdcf8-df71-4ca7-abb7-d93890ca817c",
   "metadata": {},
   "outputs": [],
   "source": [
    "def plot_confusion_matrix(y_true, y_pred, diseases, cmap=plt.cm.Blues):\n",
    "    ConfusionMatrixDisplay.from_predictions(y_pred=y_pred, y_true=y_true, cmap=cmap)\n",
    "    plt.xticks(np.arange(len(diseases)), diseases, rotation=45)\n",
    "    plt.yticks(np.arange(len(diseases)), diseases)\n",
    "    plt.grid(False)\n",
    "    plt.show()\n",
    "\n",
    "def plot_normalized_confusion_matrix(y_true, y_pred, diseases):\n",
    "    cm = confusion_matrix(y_true, y_pred)\n",
    "    cm_normalized = cm.astype('float') / cm.sum(axis=1)[:, np.newaxis]\n",
    "    cm_df = pd.DataFrame(cm_normalized, index=diseases, columns=diseases)\n",
    "    sns.heatmap(cm_df, annot=True, cmap='Blues', fmt=\".2f\", cbar=True)\n",
    "    plt.xticks(np.arange(len(diseases)) + 0.5, diseases, rotation=45)\n",
    "    plt.yticks(np.arange(len(diseases)) + 0.5, diseases, rotation=0)\n",
    "    plt.gca().set_facecolor('lightgray')\n",
    "    plt.gca().add_patch(plt.Rectangle((0, 0), len(diseases), len(diseases), fill=False, edgecolor='black', lw=2))\n",
    "    plt.xlabel('Predicted Label')\n",
    "    plt.ylabel('True Label')\n",
    "    plt.show()\n",
    "\n",
    "def plot_classification_report(y_true, y_pred, diseases):\n",
    "    print(classification_report(y_pred=y_pred, y_true=y_true, target_names=diseases))\n",
    "\n",
    "def print_multiclass_cm_metrics(y_true, y_pred, diseases, printable = False, plottable=True):\n",
    "    mcm = multilabel_confusion_matrix(y_true=y_true, y_pred=y_pred)\n",
    "    accuracy = []\n",
    "    sensitivity = []\n",
    "    specificity = []\n",
    "    precision = []\n",
    "    \n",
    "    for i in range(len(mcm)):\n",
    "        tp = mcm[i][1,1]\n",
    "        tn = mcm[i][0,0]\n",
    "        fp = mcm[i][0,1]\n",
    "        fn = mcm[i][1,0]\n",
    "        current_accuracy = (tp+tn)/(tp+tn+fp+fn)\n",
    "        current_sensitivity = (tp)/(tp+fn)\n",
    "        current_specificity = (tn)/(tn+fp)\n",
    "        current_precision = (tp)/(tp+fp)\n",
    "        if printable:\n",
    "            print(f\"\\tPrecision: {current_precision}\")\n",
    "            print(f\"\\tSensitivity: {current_sensitivity}\")\n",
    "            print(f\"\\tSpecificity: {current_specificity}\")\n",
    "            print(f\"\\tAccuracy: {current_accuracy}\")\n",
    "            print()\n",
    "        accuracy.append(current_accuracy)\n",
    "        precision.append(current_precision)\n",
    "        sensitivity.append(current_sensitivity)\n",
    "        specificity.append(current_specificity)\n",
    "    \n",
    "    width = 0.3\n",
    "    x = np.arange(len(diseases))\n",
    "    font_size=6\n",
    "    if plottable:\n",
    "        plt.bar(x-width,precision, width = width, label='Precision')\n",
    "        plt.bar(x, accuracy, width=width, label='Accuracy')\n",
    "        plt.bar(x+width, sensitivity, width=width, label='Sensitivity')\n",
    "        for x1, x2, x3, y1, y2, y3 in zip(x-width, x, x+width, precision, accuracy, sensitivity):\n",
    "            plt.text(x1, y1, '%.2f' % y1, ha='center', va='bottom', fontsize=font_size)\n",
    "            plt.text(x2, y2, '%.2f' % y2, ha='center', va='bottom', fontsize=font_size)\n",
    "            plt.text(x3, y3, '%.2f' % y3, ha='center', va='bottom', fontsize=font_size)\n",
    "        plt.xticks(x, diseases)\n",
    "        plt.legend(loc='lower left')\n",
    "        plt.show()\n",
    "\n",
    "def get_metrics(x_test, y_test, model):\n",
    "    diseases = ['Benign', 'Malign']\n",
    "    y_pred = model.predict(x_test)\n",
    "    y_pred = np.argmax(y_pred, axis=1)\n",
    "    y_true =  np.argmax(y_test, axis=1)\n",
    "    plot_confusion_matrix(y_true=y_true, y_pred=y_pred, diseases=diseases)\n",
    "    plot_normalized_confusion_matrix(y_true=y_true, y_pred=y_pred, diseases=diseases)\n",
    "    plot_classification_report(y_pred=y_pred, y_true=y_true, diseases=diseases)\n",
    "    print_multiclass_cm_metrics(y_true=y_true, y_pred=y_pred, diseases=diseases)"
   ]
  },
  {
   "cell_type": "code",
   "execution_count": null,
   "id": "328a7ad5-599c-49ec-9653-866b07caf283",
   "metadata": {},
   "outputs": [],
   "source": []
  },
  {
   "cell_type": "code",
   "execution_count": null,
   "id": "c2730a36-ac66-46fe-bf58-fede9a3c4c37",
   "metadata": {},
   "outputs": [],
   "source": []
  },
  {
   "cell_type": "code",
   "execution_count": 6,
   "id": "8ec07505-9cfd-47ac-8f2d-bd2e0e40fbc2",
   "metadata": {},
   "outputs": [],
   "source": [
    "densenet_model = build_densenet201()\n",
    "densenet_model.load_weights('improved_densenet201.h5')"
   ]
  },
  {
   "cell_type": "code",
   "execution_count": 1,
   "id": "d8466067-dcd1-4c79-a5e4-76e6c76778f6",
   "metadata": {},
   "outputs": [
    {
     "data": {
      "image/png": "[encoded data removed]",
      "text/plain": [
       "<Figure size 640x480 with 2 Axes>"
      ]
     },
     "metadata": {},
     "output_type": "display_data"
    },
    {
     "data": {
      "image/png": "[encoded data removed]",
      "text/plain": [
       "<Figure size 640x480 with 2 Axes>"
      ]
     },
     "metadata": {},
     "output_type": "display_data"
    },
    {
     "name": "stdout",
     "output_type": "stream",
     "text": [
      "              precision    recall  f1-score   support\n",
      "\n",
      "   Malignant       0.11      0.22      0.15        67\n",
      "      Benign       0.94      0.88      0.91       990\n",
      "\n",
      "    accuracy                           0.83      1057\n",
      "   macro avg       0.53      0.55      0.53      1057\n",
      "weighted avg       0.89      0.83      0.86      1057\n",
      "\n"
     ]
    },
    {
     "data": {
      "image/png": "[encoded data removed]",
      "text/plain": [
       "<Figure size 640x480 with 1 Axes>"
      ]
     },
     "metadata": {},
     "output_type": "display_data"
    }
   ],
   "source": [
    "get_metrics(X_test, y_test, densenet_model)"
   ]
  },
  {
   "cell_type": "code",
   "execution_count": 11,
   "id": "5f42832b-91ee-411d-bbb2-1989bc8dfd24",
   "metadata": {},
   "outputs": [],
   "source": [
    "densenet_model.save_weights('improved_densenet201.h5')"
   ]
  }
 ],
 "metadata": {
  "kernelspec": {
   "display_name": "Python 3 (ipykernel)",
   "language": "python",
   "name": "python3"
  },
  "language_info": {
   "codemirror_mode": {
    "name": "ipython",
    "version": 3
   },
   "file_extension": ".py",
   "mimetype": "text/x-python",
   "name": "python",
   "nbconvert_exporter": "python",
   "pygments_lexer": "ipython3",
   "version": "3.9.18"
  }
 },
 "nbformat": 4,
 "nbformat_minor": 5
}
